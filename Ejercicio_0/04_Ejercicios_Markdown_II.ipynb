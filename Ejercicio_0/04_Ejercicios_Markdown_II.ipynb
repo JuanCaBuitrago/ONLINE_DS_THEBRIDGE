{
 "cells": [
  {
   "cell_type": "markdown",
   "id": "c49ba49d",
   "metadata": {},
   "source": [
    "<img src=\"./img/TheBridge_logo_RGB_color.jpg\" width = 500>"
   ]
  },
  {
   "cell_type": "markdown",
   "id": "22ff8a1a",
   "metadata": {},
   "source": [
    "# EJERCICIOS MARKDOWN (II)"
   ]
  },
  {
   "cell_type": "markdown",
   "id": "d626df26",
   "metadata": {},
   "source": [
    "Aquí tienes cinco sencillos ejercicios para practicar lo aprendido en la segundasesión de Markdown. Como en el anterior, utiliza las celdas que hay debajo dec cada enunciado y recuerda convertirlas a Markdown primero ;-)\n",
    "\n",
    "Si algunos ejercicios no los entiendes de primeras, dales una vuelta, busca pistas, busca en Internet... pero todavía no le preguntes a ChatGPT... Recuerda con dudas teóricas corre a preguntar, con los ejercicios exprimete antes de preguntar."
   ]
  },
  {
   "cell_type": "markdown",
   "id": "b2efd92f",
   "metadata": {},
   "source": [
    "### Ejercicio 6: Listas\n",
    "Crea una lista no ordenada con los siguientes elementos:\n",
    "\n",
    "* Manzanas\n",
    "* Plátanos\n",
    "* Uvas"
   ]
  },
  {
   "cell_type": "markdown",
   "id": "f2aecbae",
   "metadata": {},
   "source": [
    "*Mazana\n",
    "-Uvas\n",
    "+Plátanos"
   ]
  },
  {
   "cell_type": "code",
   "execution_count": null,
   "id": "a20102cb",
   "metadata": {},
   "outputs": [],
   "source": []
  },
  {
   "cell_type": "markdown",
   "id": "c8c2ff80",
   "metadata": {},
   "source": [
    "Crea ahora una lista ordenada de 1 a 3 y que además lo esté alfabéticamente con estos elementos:\n",
    "\n",
    "    1. Arbol binario\n",
    "    2.  Random Forest\n",
    "    3. Regresión Logística"
   ]
  },
  {
   "cell_type": "markdown",
   "id": "e2e80c1e",
   "metadata": {},
   "source": [
    "1. Arbol binario \n",
    "2. Random forest \n",
    "3. Regreción logistica "
   ]
  },
  {
   "cell_type": "code",
   "execution_count": null,
   "id": "e5af15ee",
   "metadata": {},
   "outputs": [],
   "source": []
  },
  {
   "cell_type": "markdown",
   "id": "2c65c04a",
   "metadata": {},
   "source": [
    "### Ejercicio 7: Listas Anidadas\n",
    "Bajo el título \"Frutas y Verduras\", crea una lista ordenada de frutas, y dentro de esta, anida una lista no ordenada de tres frutas. Luego, crea otra lista ordenada de verduras y anida dentro de ella una lista no ordenada de tres verduras.\n",
    "\n",
    "Las listas anidadas no las hemos visto pero seguro que con esto te haces una idea, como con los subrayados en los ejercicios de la primera parte:\n",
    "1. El elemento con orden\n",
    "* Aquí sin orden\n",
    "2. El siguiente\n",
    "* Pico\n",
    "* Pala\n"
   ]
  },
  {
   "cell_type": "markdown",
   "id": "cfb79c72",
   "metadata": {},
   "source": [
    "# FRUTAS Y VERDURAS \n",
    "## 1. FRUTAS \n",
    "* MANZANA \n",
    "* PERA \n",
    "* UVA \n",
    "## 2. VERDURAS \n",
    "* BROCOLI \n",
    "* LECHUGA\n",
    "* PIMENTON  "
   ]
  },
  {
   "cell_type": "code",
   "execution_count": null,
   "id": "0fc171fc",
   "metadata": {},
   "outputs": [],
   "source": []
  },
  {
   "cell_type": "markdown",
   "id": "e224fbf7",
   "metadata": {},
   "source": [
    "### Ejercicio 8: Enlaces e Imágenes\n",
    "Inserta:\n",
    "\n",
    "1. Un enlace que lleve a \"www.thebridge.com\" con el texto \"Por aquí se cruzan puentes\".\n",
    "2. Una imagen de cualquier URL con el texto alternativo \"Logo\". Recuerda que puedes hacerlo referenciando la imagen a través de su ruta en tu ordenador, o bien incrustandola en el notebook\n"
   ]
  },
  {
   "cell_type": "markdown",
   "id": "2346d0c3",
   "metadata": {},
   "source": [
    " `[Por aquí secruzan puentes] (www.thebridge.com)`"
   ]
  },
  {
   "cell_type": "markdown",
   "id": "17565785",
   "metadata": {},
   "source": [
    "`[logo] ((https://www.google.com/search/about-this-image?img=H4sIAAAAAAAA_wEXAOj_ChUI-4Hd1J3En6eZARCXzsX2suOwiBWV1hrXFwAAAA%3D%3D&q=https:%2F%2Fdocenzia.com%2Fthe-bridge-digital-talent-accelerator-informacion-opiniones-cursos-precios&ctx=iv&hl=es-ES&sa=X&ved=0CA0Qg4ILahcKEwjAq6r5uuGIAxUAAAAAHQAAAAAQBA))`"
   ]
  },
  {
   "cell_type": "markdown",
   "id": "94e48fe3",
   "metadata": {},
   "source": [
    "### Ejercicio 9: Líneas Horizontales y Bloques de Código\n",
    "Inserta:\n",
    "\n",
    "1. Un bloque de código en Python que imprima \"Hola Mundo\" (pista: print(\"Hola Mundo\")) entre dos líneas horizontales, cada una creada con un método diferente."
   ]
  },
  {
   "cell_type": "code",
   "execution_count": null,
   "id": "9d31a21a",
   "metadata": {},
   "outputs": [],
   "source": []
  }
 ],
 "metadata": {
  "kernelspec": {
   "display_name": "Python 3 (ipykernel)",
   "language": "python",
   "name": "python3"
  },
  "language_info": {
   "codemirror_mode": {
    "name": "ipython",
    "version": 3
   },
   "file_extension": ".py",
   "mimetype": "text/x-python",
   "name": "python",
   "nbconvert_exporter": "python",
   "pygments_lexer": "ipython3",
   "version": "3.11.5"
  }
 },
 "nbformat": 4,
 "nbformat_minor": 5
}
